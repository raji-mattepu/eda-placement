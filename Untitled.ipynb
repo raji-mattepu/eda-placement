{
 "cells": [
  {
   "cell_type": "code",
   "execution_count": 2,
   "id": "1966e971-5076-4449-b195-e935b93b6c04",
   "metadata": {},
   "outputs": [
    {
     "data": {
      "text/plain": [
       "0"
      ]
     },
     "execution_count": 2,
     "metadata": {},
     "output_type": "execute_result"
    }
   ],
   "source": [
    "from gtts import gTTS\n",
    "import os\n",
    "\n",
    "# Text you want to convert to speech\n",
    "text = \"are u ok with this model or do u want to change your model\"\n",
    "\n",
    "# Language code (default is 'en' for English)\n",
    "language = 'en'\n",
    "\n",
    "# Passing the text and language to the engine, slow=False to speed up the speech\n",
    "speech = gTTS(text=text, lang=language, slow=False)\n",
    "\n",
    "# Save the speech to a file\n",
    "speech.save(\"output.mp3\")\n",
    "\n",
    "# Play the speech\n",
    "os.system(\"start output.mp3\")\n"
   ]
  },
  {
   "cell_type": "code",
   "execution_count": 3,
   "id": "e34aa524-607d-41c4-8db6-a09766d23318",
   "metadata": {},
   "outputs": [],
   "source": [
    "import numpy as np\n",
    "import math as m"
   ]
  },
  {
   "cell_type": "code",
   "execution_count": 8,
   "id": "af437357-5a95-48a6-a1be-6ec4d0b32583",
   "metadata": {},
   "outputs": [
    {
     "name": "stdout",
     "output_type": "stream",
     "text": [
      "[1.         1.41421356 1.73205081]\n"
     ]
    }
   ],
   "source": [
    "a=np.array([1,2,3])\n",
    "c=np.sqrt(a)\n",
    "print(c)"
   ]
  },
  {
   "cell_type": "code",
   "execution_count": 4,
   "id": "3b67cae1-160b-4829-9b17-f416c301f2f5",
   "metadata": {},
   "outputs": [
    {
     "name": "stdin",
     "output_type": "stream",
     "text": [
      "Enter 'yes' or 'no':  1\n"
     ]
    }
   ],
   "source": [
    "from gtts import gTTS\n",
    "import os\n",
    "\n",
    "# Function to speak the text\n",
    "def speak(text):\n",
    "    tts = gTTS(text=text, lang='en', slow=False)\n",
    "    tts.save(\"output.mp3\")\n",
    "    os.system(\"start output.mp3\")\n",
    "\n",
    "# Prompt the client with a question\n",
    "question = \"Are you a girl?\"\n",
    "speak(question)\n",
    "\n",
    "# Receive client's response\n",
    "response = input(\"Enter 'yes' or 'no': \")\n",
    "\n",
    "# Process the response and provide output\n",
    "if response.lower() == 'yes':\n",
    "    output_text = \"You are a girl.\"\n",
    "elif response.lower() == 'no':\n",
    "    output_text = \"You are not a girl.\"\n",
    "else:\n",
    "    output_text = \"Invalid response. Please enter 'yes' or 'no'.\"\n",
    "\n",
    "# Speak the output\n",
    "speak(output_text)\n"
   ]
  },
  {
   "cell_type": "code",
   "execution_count": 5,
   "id": "ad6055fe-7147-470b-b3b6-c13b79baab8a",
   "metadata": {},
   "outputs": [],
   "source": [
    "word=\"apple\"\n",
    "speak(word)"
   ]
  },
  {
   "cell_type": "code",
   "execution_count": 7,
   "id": "fa530793-d3e1-43c8-8ec8-b70b9becdb1e",
   "metadata": {},
   "outputs": [
    {
     "ename": "error",
     "evalue": "OpenCV(4.9.0) D:\\a\\opencv-python\\opencv-python\\opencv\\modules\\imgproc\\src\\color.cpp:196: error: (-215:Assertion failed) !_src.empty() in function 'cv::cvtColor'\n",
     "output_type": "error",
     "traceback": [
      "\u001b[1;31m---------------------------------------------------------------------------\u001b[0m",
      "\u001b[1;31merror\u001b[0m                                     Traceback (most recent call last)",
      "Cell \u001b[1;32mIn[7], line 39\u001b[0m\n\u001b[0;32m     37\u001b[0m image_path \u001b[38;5;241m=\u001b[39m \u001b[38;5;124m\"\u001b[39m\u001b[38;5;124m‪images.jpg\u001b[39m\u001b[38;5;124m\"\u001b[39m\n\u001b[0;32m     38\u001b[0m required_color_hue \u001b[38;5;241m=\u001b[39m \u001b[38;5;241m60\u001b[39m  \u001b[38;5;66;03m# Example: Hue value of 60 corresponds to green\u001b[39;00m\n\u001b[1;32m---> 39\u001b[0m change_dress_color(image_path, required_color_hue)\n",
      "Cell \u001b[1;32mIn[7], line 10\u001b[0m, in \u001b[0;36mchange_dress_color\u001b[1;34m(image_path, required_color)\u001b[0m\n\u001b[0;32m      7\u001b[0m image \u001b[38;5;241m=\u001b[39m cv2\u001b[38;5;241m.\u001b[39mimread(image_path)\n\u001b[0;32m      9\u001b[0m \u001b[38;5;66;03m# Convert BGR to HSV\u001b[39;00m\n\u001b[1;32m---> 10\u001b[0m hsv_image \u001b[38;5;241m=\u001b[39m cv2\u001b[38;5;241m.\u001b[39mcvtColor(image, cv2\u001b[38;5;241m.\u001b[39mCOLOR_BGR2HSV)\n\u001b[0;32m     12\u001b[0m \u001b[38;5;66;03m# Define the lower and upper bounds for the original color (e.g., red dress)\u001b[39;00m\n\u001b[0;32m     13\u001b[0m original_lower \u001b[38;5;241m=\u001b[39m np\u001b[38;5;241m.\u001b[39marray([\u001b[38;5;241m0\u001b[39m, \u001b[38;5;241m50\u001b[39m, \u001b[38;5;241m50\u001b[39m])\n",
      "\u001b[1;31merror\u001b[0m: OpenCV(4.9.0) D:\\a\\opencv-python\\opencv-python\\opencv\\modules\\imgproc\\src\\color.cpp:196: error: (-215:Assertion failed) !_src.empty() in function 'cv::cvtColor'\n"
     ]
    }
   ],
   "source": [
    "import cv2\n",
    "import numpy as np\n",
    "\n",
    "# Function to change the color of the dress in the image\n",
    "def change_dress_color(image_path, required_color):\n",
    "    # Load the image\n",
    "    image = cv2.imread(image_path)\n",
    "\n",
    "    # Convert BGR to HSV\n",
    "    hsv_image = cv2.cvtColor(image, cv2.COLOR_BGR2HSV)\n",
    "\n",
    "    # Define the lower and upper bounds for the original color (e.g., red dress)\n",
    "    original_lower = np.array([0, 50, 50])\n",
    "    original_upper = np.array([10, 255, 255])\n",
    "\n",
    "    # Threshold the HSV image to get only the original color region\n",
    "    mask = cv2.inRange(hsv_image, original_lower, original_upper)\n",
    "\n",
    "    # Define the new color based on the required color\n",
    "    new_color_hue = required_color  # Hue value of the required color\n",
    "    new_color = np.array([new_color_hue, 255, 255])\n",
    "\n",
    "    # Generate an image filled with the new color\n",
    "    new_color_image = np.zeros_like(image, dtype=np.uint8)\n",
    "    new_color_image[:] = new_color\n",
    "\n",
    "    # Combine the new color image with the original image using the mask\n",
    "    modified_image = cv2.bitwise_and(new_color_image, new_color_image, mask=mask)\n",
    "\n",
    "    # Display the original and modified images\n",
    "    cv2.imshow(\"Original Image\", image)\n",
    "    cv2.imshow(\"Modified Image\", modified_image)\n",
    "    cv2.waitKey(0)\n",
    "    cv2.destroyAllWindows()\n",
    "\n",
    "# Example usage\n",
    "image_path = \"‪images.jpg\"\n",
    "required_color_hue = 60  # Example: Hue value of 60 corresponds to green\n",
    "change_dress_color(image_path, required_color_hue)\n"
   ]
  },
  {
   "cell_type": "code",
   "execution_count": 8,
   "id": "5bacc676-7408-436e-b4ec-ea2a5a17289b",
   "metadata": {},
   "outputs": [
    {
     "ename": "NameError",
     "evalue": "name 'original_color' is not defined",
     "output_type": "error",
     "traceback": [
      "\u001b[1;31m---------------------------------------------------------------------------\u001b[0m",
      "\u001b[1;31mNameError\u001b[0m                                 Traceback (most recent call last)",
      "Cell \u001b[1;32mIn[8], line 43\u001b[0m\n\u001b[0;32m     41\u001b[0m image_path \u001b[38;5;241m=\u001b[39m \u001b[38;5;124m\"\u001b[39m\u001b[38;5;124mimages.jpg\u001b[39m\u001b[38;5;124m\"\u001b[39m\n\u001b[0;32m     42\u001b[0m required_color \u001b[38;5;241m=\u001b[39m (\u001b[38;5;241m0\u001b[39m, \u001b[38;5;241m255\u001b[39m, \u001b[38;5;241m0\u001b[39m)  \u001b[38;5;66;03m# Example: RGB color for green\u001b[39;00m\n\u001b[1;32m---> 43\u001b[0m change_dress_color(image_path, required_color)\n",
      "Cell \u001b[1;32mIn[8], line 29\u001b[0m, in \u001b[0;36mchange_dress_color\u001b[1;34m(image_path, required_color)\u001b[0m\n\u001b[0;32m     27\u001b[0m r, g, b \u001b[38;5;241m=\u001b[39m pixels[x, y]\n\u001b[0;32m     28\u001b[0m \u001b[38;5;66;03m# If the pixel color is similar to the original dress color, replace it with the required color\u001b[39;00m\n\u001b[1;32m---> 29\u001b[0m \u001b[38;5;28;01mif\u001b[39;00m (r, g, b) \u001b[38;5;241m==\u001b[39m original_color:\n\u001b[0;32m     30\u001b[0m     new_pixels[x, y] \u001b[38;5;241m=\u001b[39m required_color\n\u001b[0;32m     31\u001b[0m \u001b[38;5;28;01melse\u001b[39;00m:\n",
      "\u001b[1;31mNameError\u001b[0m: name 'original_color' is not defined"
     ]
    }
   ],
   "source": [
    "from PIL import Image\n",
    "\n",
    "# Function to change the color of the dress in the image\n",
    "def change_dress_color(image_path, required_color):\n",
    "    # Load the image\n",
    "    image = Image.open(image_path)\n",
    "    \n",
    "    # Convert image to RGB mode\n",
    "    image = image.convert(\"RGB\")\n",
    "    \n",
    "    # Get the image size\n",
    "    width, height = image.size\n",
    "    \n",
    "    # Create a new blank image with the same size\n",
    "    new_image = Image.new(\"RGB\", (width, height))\n",
    "    \n",
    "    # Load pixels from the original image\n",
    "    pixels = image.load()\n",
    "    new_pixels = new_image.load()\n",
    "    \n",
    "    # Define the required RGB color\n",
    "    required_color = tuple(required_color)\n",
    "    \n",
    "    # Replace original dress color with required color\n",
    "    for x in range(width):\n",
    "        for y in range(height):\n",
    "            r, g, b = pixels[x, y]\n",
    "            # If the pixel color is similar to the original dress color, replace it with the required color\n",
    "            if (r, g, b) == original_color:\n",
    "                new_pixels[x, y] = required_color\n",
    "            else:\n",
    "                new_pixels[x, y] = (r, g, b)\n",
    "    \n",
    "    # Save the modified image\n",
    "    new_image.save(\"modified_image.jpg\")\n",
    "    \n",
    "    # Display the modified image\n",
    "    new_image.show()\n",
    "\n",
    "# Example usage\n",
    "image_path = \"images.jpg\"\n",
    "required_color = (0, 255, 0)  # Example: RGB color for green\n",
    "change_dress_color(image_path, required_color)\n"
   ]
  },
  {
   "cell_type": "code",
   "execution_count": null,
   "id": "3e0398c6-b4a7-4a55-9fc4-b7fe284c528f",
   "metadata": {},
   "outputs": [],
   "source": []
  }
 ],
 "metadata": {
  "kernelspec": {
   "display_name": "Python 3 (ipykernel)",
   "language": "python",
   "name": "python3"
  },
  "language_info": {
   "codemirror_mode": {
    "name": "ipython",
    "version": 3
   },
   "file_extension": ".py",
   "mimetype": "text/x-python",
   "name": "python",
   "nbconvert_exporter": "python",
   "pygments_lexer": "ipython3",
   "version": "3.11.7"
  }
 },
 "nbformat": 4,
 "nbformat_minor": 5
}
